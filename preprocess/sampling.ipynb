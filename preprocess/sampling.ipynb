{
 "cells": [
  {
   "cell_type": "code",
   "execution_count": 2,
   "id": "e67bb9ec",
   "metadata": {},
   "outputs": [],
   "source": [
    "import pandas as pd\n",
    "import glob\n",
    "import os\n",
    "from sklearn.utils import shuffle\n",
    "import matplotlib.pyplot as plt\n",
    "import seaborn as sns\n"
   ]
  },
  {
   "cell_type": "code",
   "execution_count": null,
   "id": "980b9926",
   "metadata": {},
   "outputs": [
    {
     "name": "stdout",
     "output_type": "stream",
     "text": [
      ".\\access_log_Jul95.xlsx\n",
      ".\\CI-dvwa.xlsx\n",
      ".\\lfi-dvwa.xlsx\n",
      ".\\moodle-worker-0_moodle-server.xlsx\n",
      ".\\moodle-worker-1_moodle-server.xlsx\n",
      ".\\moodle-worker-2_moodle-server.xlsx\n",
      ".\\myits-payroll2_logs_2025-03-12.xlsx\n",
      ".\\myits-url-shortener1-app-server-0_logs_2025-03-12.xlsx\n",
      ".\\myits-url-shortener1-app-server-1_logs_2025-03-12.xlsx\n",
      ".\\myits-url-shortener1-app-server-2_logs_2025-03-12.xlsx\n",
      ".\\myits-url-shortener1-app-server-3_logs_2025-03-12.xlsx\n",
      ".\\sqli-dvwa.xlsx\n",
      ".\\sqli-fired.xlsx\n",
      ".\\ssrf-dvwa.xlsx\n",
      ".\\xss-dvwa.xlsx\n",
      ".\\xss-fired-2.xlsx\n",
      ".\\xss-fired.xlsx\n",
      "./tpka-log\\access.1.xlsx\n",
      "./tpka-log\\access.10.xlsx\n",
      "./tpka-log\\access.11.xlsx\n",
      "./tpka-log\\access.12.xlsx\n",
      "./tpka-log\\access.13.xlsx\n",
      "./tpka-log\\access.14.xlsx\n",
      "./tpka-log\\access.2.xlsx\n",
      "./tpka-log\\access.3.xlsx\n",
      "./tpka-log\\access.4.xlsx\n",
      "./tpka-log\\access.5.xlsx\n",
      "./tpka-log\\access.6.xlsx\n",
      "./tpka-log\\access.7.xlsx\n",
      "./tpka-log\\access.8.xlsx\n",
      "./tpka-log\\access.9.xlsx\n",
      "./tpka-log\\access.xlsx\n"
     ]
    }
   ],
   "source": [
    "data_files = glob.glob(\"./*\")\n",
    "tpka_files = glob.glob(\"./tpka-log/*\")\n",
    "dfs = []\n",
    "\n",
    "for file in data_files:\n",
    "    if (file.endswith(\"server.xlsx\") or file.endswith(\"csic_dataset_preprocessed.csv\") or file.endswith(\"12.xlsx\") or file.endswith(\"-dvwa.xlsx\") or file.endswith(\"access_log_Jul95.xlsx\") or file.endswith(\"sqli-fired.xlsx\") or file.endswith(\"xss-fired.xlsx\") or file.endswith(\"xss-fired-2.xlsx\")) and (not file.endswith(\".log.xlsx\")) and (not file.endswith(\"_dataset.xlsx\")):\n",
    "        if file.endswith(\".csv\"):\n",
    "            df_spain = pd.read_csv(file, encoding='latin1')\n",
    "            continue\n",
    "        else:\n",
    "            df = pd.read_excel(file)\n",
    "        # if(file.endswith(\"server.xlsx\")):\n",
    "        #     df = df.sample(n=3000,random_state=1234)\n",
    "        print(file)\n",
    "        dfs.append(df)\n",
    "    else:\n",
    "        continue\n",
    "\n",
    "for file in tpka_files:\n",
    "    if file.endswith(\".xlsx\"):\n",
    "        print(file)\n",
    "        df = pd.read_excel(file)\n",
    "        dfs.append(df)"
   ]
  },
  {
   "cell_type": "code",
   "execution_count": 4,
   "id": "fcbcef1a",
   "metadata": {},
   "outputs": [],
   "source": [
    "df_all = pd.concat(dfs, ignore_index=True)"
   ]
  },
  {
   "cell_type": "code",
   "execution_count": null,
   "id": "5003831d",
   "metadata": {},
   "outputs": [
    {
     "name": "stdout",
     "output_type": "stream",
     "text": [
      "522832\n",
      "XSS: 14551\n",
      "SQLI: 24971\n"
     ]
    },
    {
     "name": "stderr",
     "output_type": "stream",
     "text": [
      "C:\\Users\\ALFA\\AppData\\Local\\Temp\\ipykernel_27060\\586770105.py:18: FutureWarning: \n",
      "\n",
      "Passing `palette` without assigning `hue` is deprecated and will be removed in v0.14.0. Assign the `x` variable to `hue` and set `legend=False` for the same effect.\n",
      "\n",
      "  sns.barplot(x=non_benign_label.index, y=non_benign_label.values, palette='Set2')\n"
     ]
    },
    {
     "data": {
      "image/png": "[encoded data removed]",
      "text/plain": [
       "<Figure size 800x600 with 1 Axes>"
      ]
     },
     "metadata": {},
     "output_type": "display_data"
    },
    {
     "name": "stdout",
     "output_type": "stream",
     "text": [
      "length benign before: 161750\n",
      "length non_benign before: 39522\n",
      "length benign after: 161750\n",
      "length non_benign after: 39522\n"
     ]
    }
   ],
   "source": [
    "from sklearn.model_selection import train_test_split\n",
    "print(df_all.duplicated(subset=['url']).sum())\n",
    "# cut rows with over than 300 characters in url\n",
    "df_all = df_all[df_all['url'].str.len() <= 300]\n",
    "df_all.drop_duplicates(subset=['url'], inplace=True)\n",
    "benign_df = df_all[(df_all[\"label\"] == \"Benign\")].copy()\n",
    "malicious_labels = [\"XSS\", \"SQLI\"]\n",
    "# malicious_labels = [\"SQLI\", \"PATH_TRAVERSAL\", \"XSS\", \"COMMAND_INJECTION\"]\n",
    "non_benign_df = df_all[df_all[\"label\"].isin(malicious_labels)].copy()\n",
    "\n",
    "#print each malicious label count\n",
    "for label in malicious_labels:\n",
    "    print(f\"{label}: {len(non_benign_df[non_benign_df['label'] == label])}\")\n",
    "non_benign_label = non_benign_df['label'].value_counts()\n",
    "\n",
    "# Visualisasi\n",
    "plt.figure(figsize=(8, 6))\n",
    "sns.barplot(x=non_benign_label.index, y=non_benign_label.values, palette='Set2')\n",
    "plt.title('Distribusi Label: SQLI vs XSS vs Normal', fontsize=14, fontweight='bold')\n",
    "plt.xlabel('Label', fontsize=12)\n",
    "plt.ylabel('Jumlah Sampel', fontsize=12)\n",
    "\n",
    "# Tambahkan angka di atas bar\n",
    "for index, value in enumerate(non_benign_label.values):\n",
    "    plt.text(index, value + 20, str(value), ha='center', va='bottom', fontsize=10)\n",
    "\n",
    "plt.grid(axis='y', linestyle='--', alpha=0.5)\n",
    "plt.tight_layout()\n",
    "plt.show()\n",
    "\n",
    "# show data\n",
    "non_benign_df[\"label\"] = \"Malicious\"\n",
    "benign_df[\"label\"] = \"Benign\"\n",
    "benign_df.drop_duplicates(subset=['url'],inplace=True)\n",
    "non_benign_df.drop_duplicates(subset=['url'],inplace=True)\n",
    "print(f\"length benign before: {len(benign_df)}\")\n",
    "print(f\"length non_benign before: {len(non_benign_df)}\")\n",
    "print(f\"length benign after: {len(benign_df)}\")\n",
    "print(f\"length non_benign after: {len(non_benign_df)}\")\n",
    "benign_spain_df = df_spain[(df_spain[\"label\"] == \"Benign\")].copy()\n",
    "malicious_spain_df = df_spain[df_spain[\"label\"] == \"Malicious\"].copy()\n",
    "print(len(benign_spain_df))\n",
    "print(len(malicious_spain_df))\n",
    "benign_spain_df.drop_duplicates(subset=['url'], inplace=True)\n",
    "malicious_spain_df.drop_duplicates(subset=['url'], inplace=True)\n",
    "print(len(benign_spain_df))\n",
    "print(len(malicious_spain_df))\n",
    "benign_spain_train_df, benign_spain_test_df = train_test_split(benign_spain_df, test_size=0.2, random_state=1234)\n",
    "malicious_spain_train_df, malicious_spain_test_df = train_test_split(malicious_spain_df, test_size=0.2, random_state=1234)\n",
    "train_spain_df = pd.concat([benign_spain_train_df, malicious_spain_train_df], ignore_index=True)\n",
    "test_spain_df = pd.concat([benign_spain_test_df, malicious_spain_test_df], ignore_index=True)\n",
    "print(len(train_spain_df))\n",
    "print(len(test_spain_df))"
   ]
  },
  {
   "cell_type": "code",
   "execution_count": null,
   "id": "03852b28",
   "metadata": {},
   "outputs": [],
   "source": [
    "balanced_df = pd.concat([benign_df, non_benign_df], ignore_index=True)\n",
    "balanced_df = shuffle(balanced_df, random_state=1234).reset_index(drop=True)\n"
   ]
  },
  {
   "cell_type": "code",
   "execution_count": null,
   "id": "f4985359",
   "metadata": {},
   "outputs": [],
   "source": [
    "balanced_df.to_csv(\"csv_dataset_preprocessed.csv\", index=False)"
   ]
  }
 ],
 "metadata": {
  "kernelspec": {
   "display_name": "Python 3",
   "language": "python",
   "name": "python3"
  },
  "language_info": {
   "codemirror_mode": {
    "name": "ipython",
    "version": 3
   },
   "file_extension": ".py",
   "mimetype": "text/x-python",
   "name": "python",
   "nbconvert_exporter": "python",
   "pygments_lexer": "ipython3",
   "version": "3.13.3"
  }
 },
 "nbformat": 4,
 "nbformat_minor": 5
}
