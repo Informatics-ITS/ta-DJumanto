{
 "cells": [
  {
   "cell_type": "code",
   "execution_count": 1,
   "id": "f7833dd4",
   "metadata": {},
   "outputs": [],
   "source": [
    "import numpy as np\n",
    "import pandas as pd\n",
    "import re\n",
    "import base64"
   ]
  },
  {
   "cell_type": "code",
   "execution_count": 2,
   "id": "748fab33",
   "metadata": {},
   "outputs": [],
   "source": [
    "def is_base64(s):\n",
    "    if len(s) % 4 == 0 and re.fullmatch(r'[A-Za-z0-9+/=]+', s):\n",
    "        try:\n",
    "            decoded = base64.b64decode(s, validate=True)\n",
    "            return len(decoded) > 0\n",
    "        except Exception:\n",
    "            return False\n",
    "    return False"
   ]
  },
  {
   "cell_type": "code",
   "execution_count": 3,
   "id": "d612230f",
   "metadata": {},
   "outputs": [
    {
     "name": "stderr",
     "output_type": "stream",
     "text": [
      "<>:14: SyntaxWarning: invalid escape sequence '\\]'\n",
      "<>:14: SyntaxWarning: invalid escape sequence '\\]'\n",
      "C:\\Users\\ALFA\\AppData\\Local\\Temp\\ipykernel_29340\\862444542.py:14: SyntaxWarning: invalid escape sequence '\\]'\n",
      "  if segment in \"!\\\"#$%&'()*+,-./:;<=>?@[\\]^_`{|}~\":\n"
     ]
    }
   ],
   "source": [
    "def categorize_segment(segment):\n",
    "    if segment == \"<EOS>\":\n",
    "        return segment\n",
    "    if re.fullmatch(r\"[a-fA-F0-9]{32}\", segment):\n",
    "        return \"MD5_HASH\"\n",
    "    if re.fullmatch(r\"[a-fA-F0-9]{40,64}\", segment):\n",
    "        return \"SHA_HASH\"\n",
    "    if re.fullmatch(r\"[a-fA-F0-9]{3,}\", segment):\n",
    "        return \"HEX\"\n",
    "    if is_base64(segment):\n",
    "        return \"BASE64\"\n",
    "    if re.fullmatch(r\"[a-zA-Z0-9+/=]{16,}\", segment):\n",
    "        return \"ENCRYPTION\"\n",
    "    if segment in \"!\\\"#$%&'()*+,-./:;<=>?@[\\]^_`{|}~\":\n",
    "        return segment \n",
    "    if segment == \"I\":\n",
    "        return segment\n",
    "    return \"\".join([\"W\" if i.isalpha() else \"D\" if i.isdigit() else i for i in segment])\n",
    "\n",
    "def feature_extract(url):\n",
    "    return \" \".join(categorize_segment(seg) for seg in url.split())"
   ]
  },
  {
   "cell_type": "code",
   "execution_count": 4,
   "id": "40f49674",
   "metadata": {},
   "outputs": [
    {
     "data": {
      "text/html": [
       "<div>\n",
       "<style scoped>\n",
       "    .dataframe tbody tr th:only-of-type {\n",
       "        vertical-align: middle;\n",
       "    }\n",
       "\n",
       "    .dataframe tbody tr th {\n",
       "        vertical-align: top;\n",
       "    }\n",
       "\n",
       "    .dataframe thead th {\n",
       "        text-align: right;\n",
       "    }\n",
       "</style>\n",
       "<table border=\"1\" class=\"dataframe\">\n",
       "  <thead>\n",
       "    <tr style=\"text-align: right;\">\n",
       "      <th></th>\n",
       "      <th>method</th>\n",
       "      <th>url</th>\n",
       "      <th>site</th>\n",
       "      <th>header</th>\n",
       "      <th>label</th>\n",
       "      <th>feature</th>\n",
       "    </tr>\n",
       "  </thead>\n",
       "  <tbody>\n",
       "    <tr>\n",
       "      <th>0</th>\n",
       "      <td>GET</td>\n",
       "      <td>/ mod / quiz / attempt . php &lt;QUERY&gt; attempt =...</td>\n",
       "      <td>https://cbt.its.ac.id/mod/quiz/attempt.php?att...</td>\n",
       "      <td>Mozilla/5.0 (Windows NT 10.0; Win64; x64) Appl...</td>\n",
       "      <td>Benign</td>\n",
       "      <td>/ WWW / BASE64 / WWWWWWW . WWW &lt;QUERY&gt; WWWWWWW...</td>\n",
       "    </tr>\n",
       "    <tr>\n",
       "      <th>1</th>\n",
       "      <td>GET</td>\n",
       "      <td>/ pluginfile . php / 113836 / question / quest...</td>\n",
       "      <td>https://cbt.its.ac.id/mod/quiz/attempt.php?att...</td>\n",
       "      <td>Mozilla/5.0 (Windows NT 10.0; Win64; x64) Appl...</td>\n",
       "      <td>Benign</td>\n",
       "      <td>/ WWWWWWWWWW . WWW / HEX / BASE64 / BASE64 / H...</td>\n",
       "    </tr>\n",
       "    <tr>\n",
       "      <th>2</th>\n",
       "      <td>GET</td>\n",
       "      <td>/ vulnerabilities / sqli / &lt;QUERY&gt; id = - 7668...</td>\n",
       "      <td>http://localhost:4280/vulnerabilities/sqli/</td>\n",
       "      <td>Mozilla/5.0 (Windows NT 10.0; Win64; x64) Appl...</td>\n",
       "      <td>Malicious</td>\n",
       "      <td>/ WWWWWWWWWWWWWWW / BASE64 / &lt;QUERY&gt; WW = - HE...</td>\n",
       "    </tr>\n",
       "    <tr>\n",
       "      <th>3</th>\n",
       "      <td>GET</td>\n",
       "      <td>/ uploads . rar &lt;EOS&gt;</td>\n",
       "      <td>-</td>\n",
       "      <td>Mozilla/5.0 (Windows NT 6.1) AppleWebKit/537.3...</td>\n",
       "      <td>Benign</td>\n",
       "      <td>/ WWWWWWW . WWW &lt;EOS&gt;</td>\n",
       "    </tr>\n",
       "    <tr>\n",
       "      <th>4</th>\n",
       "      <td>GET</td>\n",
       "      <td>/ vulnerabilities / xss _ d / &lt;QUERY&gt; default ...</td>\n",
       "      <td>-</td>\n",
       "      <td>Mozilla/5.0 (Windows NT 10.0; Win64; x64) Appl...</td>\n",
       "      <td>Malicious</td>\n",
       "      <td>/ WWWWWWWWWWWWWWW / WWW _ W / &lt;QUERY&gt; WWWWWWW ...</td>\n",
       "    </tr>\n",
       "  </tbody>\n",
       "</table>\n",
       "</div>"
      ],
      "text/plain": [
       "  method                                                url  \\\n",
       "0    GET  / mod / quiz / attempt . php <QUERY> attempt =...   \n",
       "1    GET  / pluginfile . php / 113836 / question / quest...   \n",
       "2    GET  / vulnerabilities / sqli / <QUERY> id = - 7668...   \n",
       "3    GET                              / uploads . rar <EOS>   \n",
       "4    GET  / vulnerabilities / xss _ d / <QUERY> default ...   \n",
       "\n",
       "                                                site  \\\n",
       "0  https://cbt.its.ac.id/mod/quiz/attempt.php?att...   \n",
       "1  https://cbt.its.ac.id/mod/quiz/attempt.php?att...   \n",
       "2        http://localhost:4280/vulnerabilities/sqli/   \n",
       "3                                                  -   \n",
       "4                                                  -   \n",
       "\n",
       "                                              header      label  \\\n",
       "0  Mozilla/5.0 (Windows NT 10.0; Win64; x64) Appl...     Benign   \n",
       "1  Mozilla/5.0 (Windows NT 10.0; Win64; x64) Appl...     Benign   \n",
       "2  Mozilla/5.0 (Windows NT 10.0; Win64; x64) Appl...  Malicious   \n",
       "3  Mozilla/5.0 (Windows NT 6.1) AppleWebKit/537.3...     Benign   \n",
       "4  Mozilla/5.0 (Windows NT 10.0; Win64; x64) Appl...  Malicious   \n",
       "\n",
       "                                             feature  \n",
       "0  / WWW / BASE64 / WWWWWWW . WWW <QUERY> WWWWWWW...  \n",
       "1  / WWWWWWWWWW . WWW / HEX / BASE64 / BASE64 / H...  \n",
       "2  / WWWWWWWWWWWWWWW / BASE64 / <QUERY> WW = - HE...  \n",
       "3                              / WWWWWWW . WWW <EOS>  \n",
       "4  / WWWWWWWWWWWWWWW / WWW _ W / <QUERY> WWWWWWW ...  "
      ]
     },
     "execution_count": 4,
     "metadata": {},
     "output_type": "execute_result"
    }
   ],
   "source": [
    "train_df = pd.read_csv('csv_dataset_preprocessed.csv')\n",
    "train_df.head()"
   ]
  },
  {
   "cell_type": "code",
   "execution_count": 5,
   "id": "14f8586d",
   "metadata": {},
   "outputs": [
    {
     "name": "stdout",
     "output_type": "stream",
     "text": [
      "total null method        0\n",
      "url           0\n",
      "site       9636\n",
      "header     9636\n",
      "label         0\n",
      "feature       0\n",
      "dtype: int64\n",
      "161730\n"
     ]
    }
   ],
   "source": [
    "benign_rows = train_df[train_df['label'] == \"Benign\"]\n",
    "print(f\"total null {train_df.isna().sum()}\")\n",
    "benign_rows = benign_rows[~benign_rows[\"url\"].str.contains(\"/ vulnerabilities\", na=False)]\n",
    "print(len(benign_rows))"
   ]
  },
  {
   "cell_type": "code",
   "execution_count": 16,
   "id": "fed92c70",
   "metadata": {},
   "outputs": [],
   "source": [
    "def cut_before_query(row):\n",
    "    if row['label'] == \"Malicious\" and (\"/ vuln\" in row['url'] or row['url'].startswith(\"/ <QUERY> \") or row['url'].startswith(\"/ vulnerabilities\")):\n",
    "        if '<QUERY>' in row['url']:\n",
    "            url_parts = row['url'].split('<QUERY>', 1)\n",
    "            row['url'] = ' <QUERY> ' + url_parts[1].strip()\n",
    "        if '<QUERY>' in row['feature']:\n",
    "            feat_parts = row['feature'].split('<QUERY>', 1)\n",
    "            row['feature'] = ' <QUERY> ' + feat_parts[1].strip()\n",
    "    return row\n",
    "\n",
    "train_df = train_df.apply(cut_before_query, axis=1)\n"
   ]
  },
  {
   "cell_type": "code",
   "execution_count": 17,
   "id": "329a65ef",
   "metadata": {},
   "outputs": [
    {
     "name": "stdout",
     "output_type": "stream",
     "text": [
      "0    / mod / quiz / attempt . php <QUERY> attempt =...\n",
      "1    / pluginfile . php / 113836 / question / quest...\n",
      "2     <QUERY> id = - 7668 ) UNION ALL SELECT 1839 ,...\n",
      "3                                / uploads . rar <EOS>\n",
      "4     <QUERY> default = < bdo + oncut = \" alert ( 1...\n",
      "Name: url, dtype: object\n",
      "53795\n"
     ]
    }
   ],
   "source": [
    "print(train_df['url'].head())\n",
    "print(len(train_df[train_df['label'] == \"Malicious\"]))"
   ]
  },
  {
   "cell_type": "code",
   "execution_count": 18,
   "id": "04c1b49e",
   "metadata": {},
   "outputs": [
    {
     "name": "stdout",
     "output_type": "stream",
     "text": [
      "149264\n"
     ]
    },
    {
     "name": "stderr",
     "output_type": "stream",
     "text": [
      "C:\\Users\\ALFA\\AppData\\Local\\Temp\\ipykernel_6372\\3117522236.py:7: SettingWithCopyWarning: \n",
      "A value is trying to be set on a copy of a slice from a DataFrame\n",
      "\n",
      "See the caveats in the documentation: https://pandas.pydata.org/pandas-docs/stable/user_guide/indexing.html#returning-a-view-versus-a-copy\n",
      "  benign_sample.drop_duplicates(subset=['url'], inplace=True)\n"
     ]
    }
   ],
   "source": [
    "# Generatee randow list of benign without <EOS> in the url\n",
    "from random import random, choice\n",
    "benign_sample = benign_rows[~benign_rows['url'].str.contains(\"/ lib /\", na=False)]\n",
    "print(len(benign_sample))\n",
    "param_to_change = ['attempt', 'id', 'message', 'page', 'default', 'submit', \"Submit\", 'ip']\n",
    "blacklist = set(param_to_change + [\"EOS\", \"eos\", \"query\", \"QUERY\"])\n",
    "benign_sample.drop_duplicates(subset=['url'], inplace=True)\n",
    "for row in train_df.itertuples():\n",
    "    if row.label == \"Malicious\" and (row.url.startswith(\" <QUERY> \") or row.url.startswith(\"/ <QUERY> \") or row.url.startswith(\"/ vulnerabilities\")):\n",
    "        benign_n_sample = benign_sample.sample(n=1, random_state=int(random() * len(benign_sample)))\n",
    "        while True:\n",
    "            random_url = benign_sample.sample(n=1, random_state=int(random() * len(benign_sample)))['url'].values[0]\n",
    "            alpha_words = re.findall(r'[a-zA-Z]+', random_url)\n",
    "            alpha_words = [word for word in alpha_words if word not in blacklist]\n",
    "            if len(alpha_words) > 0:\n",
    "                break\n",
    "        modified_url = row.url\n",
    "        for param in param_to_change:\n",
    "            if param in train_df.at[row.Index, 'url']:\n",
    "                modified_url = modified_url.replace(param, choice(alpha_words),1)\n",
    "        benign_n_sample_url = benign_n_sample.iloc[0]['url']\n",
    "        cleaned_benign = re.sub(r\"(?i)<query>.*?<eos>\", \"\", benign_n_sample_url, flags=re.IGNORECASE)\n",
    "        train_df.at[row.Index, 'url'] = cleaned_benign.replace(\"<EOS>\",\"\") + modified_url\n",
    "train_df['url'] = train_df['url'].str.replace(\"<EOS>\", \"\", regex=False, case=False)\n",
    "train_df['feature'] = train_df['url'].apply(feature_extract)\n",
    "train_df.drop_duplicates(subset=['url'], inplace=True)"
   ]
  },
  {
   "cell_type": "code",
   "execution_count": 19,
   "id": "4151868e",
   "metadata": {},
   "outputs": [
    {
     "name": "stdout",
     "output_type": "stream",
     "text": [
      "0    / mod / quiz / attempt . php <QUERY> attempt =...\n",
      "1    / pluginfile . php / 113836 / question / quest...\n",
      "2    / mod / quiz / attempt . php  <QUERY> cmid = -...\n",
      "3                                     / uploads . rar \n",
      "4    / mod / quiz / attempt . php  <QUERY> jpg = < ...\n",
      "Name: url, dtype: object\n",
      "53795\n"
     ]
    }
   ],
   "source": [
    "print(train_df['url'].head())\n",
    "print(len(train_df[train_df['label'] == \"Malicious\"]))"
   ]
  },
  {
   "cell_type": "code",
   "execution_count": 20,
   "id": "e208b00d",
   "metadata": {},
   "outputs": [],
   "source": [
    "train_df.to_csv('csv_dataset_preprocessed_2_imbalanced.csv', index=False)"
   ]
  }
 ],
 "metadata": {
  "kernelspec": {
   "display_name": "Python 3",
   "language": "python",
   "name": "python3"
  },
  "language_info": {
   "codemirror_mode": {
    "name": "ipython",
    "version": 3
   },
   "file_extension": ".py",
   "mimetype": "text/x-python",
   "name": "python",
   "nbconvert_exporter": "python",
   "pygments_lexer": "ipython3",
   "version": "3.13.5"
  }
 },
 "nbformat": 4,
 "nbformat_minor": 5
}
